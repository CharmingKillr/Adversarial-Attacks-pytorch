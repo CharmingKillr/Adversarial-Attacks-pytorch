{
 "cells": [
  {
   "cell_type": "code",
   "execution_count": 59,
   "id": "initial_id",
   "metadata": {
    "collapsed": true,
    "ExecuteTime": {
     "end_time": "2024-09-14T06:59:35.919907Z",
     "start_time": "2024-09-14T06:59:35.914697Z"
    }
   },
   "outputs": [],
   "source": [
    "import torch\n",
    "import numpy\n",
    "import torch.nn as nn\n",
    "import torch.nn.functional as F"
   ]
  },
  {
   "cell_type": "code",
   "outputs": [
    {
     "data": {
      "text/plain": "(tensor([3, 5]), tensor([2, 2]))"
     },
     "execution_count": 139,
     "metadata": {},
     "output_type": "execute_result"
    }
   ],
   "source": [
    "# word embedding 以序列建模为例\n",
    "# 考虑source sentence 和 target sentence\n",
    "# 构建序列，序列的字符以其在词表中的索引的形式表示\n",
    "torch.manual_seed(1)\n",
    "batch_size = 2\n",
    "\n",
    "# 词表大小\n",
    "max_num_src_words = 8\n",
    "max_num_tgt_words = 8\n",
    "model_embedding_dim = 8 #原文为512\n",
    "\n",
    "\n",
    "# 序列的最大长度   超参数 \n",
    "max_src_seq_len = 5\n",
    "max_tgt_seq_len = 5\n",
    "max_position_len = 5\n",
    "\n",
    "src_len = torch.randint(2, 6, (batch_size,))\n",
    "tgt_len = torch.randint(2, 6, (batch_size,))\n",
    "src_len,tgt_len"
   ],
   "metadata": {
    "collapsed": false,
    "ExecuteTime": {
     "end_time": "2024-09-14T07:52:04.124531Z",
     "start_time": "2024-09-14T07:52:04.115527Z"
    }
   },
   "id": "22e1cbb210da4ab8",
   "execution_count": 139
  },
  {
   "cell_type": "code",
   "outputs": [
    {
     "name": "stdout",
     "output_type": "stream",
     "text": [
      "tensor([[4, 6, 4, 0, 0],\n",
      "        [6, 2, 6, 4, 7]]) torch.Size([2, 5])\n",
      "tensor([[7, 3, 0, 0, 0],\n",
      "        [2, 7, 0, 0, 0]]) torch.Size([2, 5])\n"
     ]
    }
   ],
   "source": [
    "# 单词索引构成源句子和目标句子，构建batch, 做了padding， 默认值为0\n",
    "src_seq =[torch.unsqueeze(F.pad(torch.randint(1, max_num_src_words, (L,)), (0, max_src_seq_len - L)), 0) \\\n",
    "          for L in src_len]\n",
    "tgt_seq =[torch.unsqueeze(F.pad(torch.randint(1, max_num_tgt_words, (L,)), (0, max_tgt_seq_len - L)), 0) \\\n",
    "          for L in tgt_len]\n",
    "\n",
    "src_seq = torch.cat(src_seq, dim=0)\n",
    "tgt_seq = torch.cat(tgt_seq, dim=0)\n",
    "\n",
    "print(src_seq, src_seq.shape)\n",
    "print(tgt_seq, tgt_seq.shape)"
   ],
   "metadata": {
    "collapsed": false,
    "ExecuteTime": {
     "end_time": "2024-09-14T07:58:33.737540Z",
     "start_time": "2024-09-14T07:58:33.718717Z"
    }
   },
   "id": "8e33be9552a62ff5",
   "execution_count": 154
  },
  {
   "cell_type": "code",
   "outputs": [
    {
     "name": "stdout",
     "output_type": "stream",
     "text": [
      "Parameter containing:\n",
      "tensor([[ 0.4890, -0.1593,  0.1896,  0.6536,  1.0295, -0.4674,  1.2100, -0.9293],\n",
      "        [-1.0647, -0.8734,  0.1444, -0.1146,  0.4031,  0.7834,  1.6241, -1.9684],\n",
      "        [ 0.4186,  0.7187, -0.4918,  0.6325,  0.4409, -2.0395,  1.0629,  0.7760],\n",
      "        [ 0.0096, -0.2610,  0.4011,  0.1672, -0.6525,  2.3191, -0.3156,  1.2293],\n",
      "        [ 0.0074,  0.3208,  0.8575, -0.0639,  0.1633,  1.1105,  0.6586, -0.1845],\n",
      "        [ 0.2699,  0.4034, -1.3365,  1.0815, -0.2198, -0.7506,  0.9105,  1.4996],\n",
      "        [ 1.0353, -0.1632,  0.2580,  0.8273, -0.2423, -0.1800,  0.9584,  0.3781],\n",
      "        [-1.5045, -0.1863, -0.9321,  0.3055,  1.4964,  0.2790, -0.5353,  1.1382],\n",
      "        [ 1.3459, -0.4643, -0.3743,  0.9706, -1.7283, -0.6890, -0.4400,  0.3497]],\n",
      "       requires_grad=True)\n",
      "tensor([[[-1.5045, -0.1863, -0.9321,  0.3055,  1.4964,  0.2790, -0.5353,\n",
      "           1.1382],\n",
      "         [ 0.0096, -0.2610,  0.4011,  0.1672, -0.6525,  2.3191, -0.3156,\n",
      "           1.2293],\n",
      "         [ 0.4890, -0.1593,  0.1896,  0.6536,  1.0295, -0.4674,  1.2100,\n",
      "          -0.9293],\n",
      "         [ 0.4890, -0.1593,  0.1896,  0.6536,  1.0295, -0.4674,  1.2100,\n",
      "          -0.9293],\n",
      "         [ 0.4890, -0.1593,  0.1896,  0.6536,  1.0295, -0.4674,  1.2100,\n",
      "          -0.9293]],\n",
      "\n",
      "        [[ 0.4186,  0.7187, -0.4918,  0.6325,  0.4409, -2.0395,  1.0629,\n",
      "           0.7760],\n",
      "         [-1.5045, -0.1863, -0.9321,  0.3055,  1.4964,  0.2790, -0.5353,\n",
      "           1.1382],\n",
      "         [ 0.4890, -0.1593,  0.1896,  0.6536,  1.0295, -0.4674,  1.2100,\n",
      "          -0.9293],\n",
      "         [ 0.4890, -0.1593,  0.1896,  0.6536,  1.0295, -0.4674,  1.2100,\n",
      "          -0.9293],\n",
      "         [ 0.4890, -0.1593,  0.1896,  0.6536,  1.0295, -0.4674,  1.2100,\n",
      "          -0.9293]]], grad_fn=<EmbeddingBackward0>)\n"
     ]
    }
   ],
   "source": [
    "# 构造word embedding \n",
    "src_embedding_table = nn.Embedding(max_num_src_words + 1, model_embedding_dim)\n",
    "tgt_embedding_table = nn.Embedding(max_num_tgt_words + 1, model_embedding_dim)\n",
    "print(tgt_embedding_table.weight)\n",
    "\n",
    "src_embedding = src_embedding_table(src_seq)\n",
    "tgt_embedding = tgt_embedding_table(tgt_seq)\n",
    "print(tgt_embedding)"
   ],
   "metadata": {
    "collapsed": false,
    "ExecuteTime": {
     "end_time": "2024-09-14T07:58:46.191825Z",
     "start_time": "2024-09-14T07:58:46.181332Z"
    }
   },
   "id": "56fb88e0e419f98b",
   "execution_count": 155
  },
  {
   "cell_type": "code",
   "outputs": [],
   "source": [],
   "metadata": {
    "collapsed": false
   },
   "id": "ca3077fccf6a604e"
  },
  {
   "cell_type": "code",
   "outputs": [],
   "source": [
    "# 构造position embedding\n",
    "pos_mat = torch.arange(max_position_len).reshape(-1, 1)\n",
    "i_mat = torch.pow(10000, torch.arange(0, 8, 2).reshape(1, -1) / model_embedding_dim)\n",
    "pe_embedding_table = torch.zeros(max_position_len, model_embedding_dim)\n",
    "pe_embedding_table[:, 0::2] = torch.sin(pos_mat / i_mat)\n",
    "pe_embedding_table[:, 1::2] = torch.cos(pos_mat / i_mat)\n",
    "\n",
    "# 位置索引\n",
    "src_pos = torch.cat([torch.unsqueeze(torch.arange(max(src_len)), 0) for _ in src_len])\n",
    "tgt_pos = torch.cat([torch.unsqueeze(torch.arange(max(tgt_len)), 0) for _ in src_len])\n",
    "\n",
    "pe_embedding = nn.Embedding(max_position_len, model_embedding_dim)\n",
    "pe_embedding.weight = nn.Parameter(pe_embedding_table, requires_grad=False)\n",
    "\n",
    "src_pe_embedding = pe_embedding(src_pos)\n",
    "tgt_pe_embedding = pe_embedding(tgt_pos)"
   ],
   "metadata": {
    "collapsed": false,
    "ExecuteTime": {
     "end_time": "2024-09-14T07:54:57.684365Z",
     "start_time": "2024-09-14T07:54:57.674131Z"
    }
   },
   "id": "d1e3d3e9dbda0bf5",
   "execution_count": 148
  },
  {
   "cell_type": "code",
   "outputs": [
    {
     "data": {
      "text/plain": "(tensor([[   1.,   10.,  100., 1000.]]),\n tensor([[0],\n         [1],\n         [2],\n         [3],\n         [4]]),\n tensor([[0.0000e+00, 0.0000e+00, 0.0000e+00, 0.0000e+00],\n         [1.0000e+00, 1.0000e-01, 1.0000e-02, 1.0000e-03],\n         [2.0000e+00, 2.0000e-01, 2.0000e-02, 2.0000e-03],\n         [3.0000e+00, 3.0000e-01, 3.0000e-02, 3.0000e-03],\n         [4.0000e+00, 4.0000e-01, 4.0000e-02, 4.0000e-03]]),\n Parameter containing:\n tensor([[ 0.0000e+00,  1.0000e+00,  0.0000e+00,  1.0000e+00,  0.0000e+00,\n           1.0000e+00,  0.0000e+00,  1.0000e+00],\n         [ 8.4147e-01,  5.4030e-01,  9.9833e-02,  9.9500e-01,  9.9998e-03,\n           9.9995e-01,  1.0000e-03,  1.0000e+00],\n         [ 9.0930e-01, -4.1615e-01,  1.9867e-01,  9.8007e-01,  1.9999e-02,\n           9.9980e-01,  2.0000e-03,  1.0000e+00],\n         [ 1.4112e-01, -9.8999e-01,  2.9552e-01,  9.5534e-01,  2.9995e-02,\n           9.9955e-01,  3.0000e-03,  1.0000e+00],\n         [-7.5680e-01, -6.5364e-01,  3.8942e-01,  9.2106e-01,  3.9989e-02,\n           9.9920e-01,  4.0000e-03,  9.9999e-01]]),\n tensor([[0, 1, 2, 3, 4],\n         [0, 1, 2, 3, 4]]),\n tensor([[0, 1],\n         [0, 1]]),\n tensor([[[0.0000e+00, 1.0000e+00, 0.0000e+00, 1.0000e+00, 0.0000e+00,\n           1.0000e+00, 0.0000e+00, 1.0000e+00],\n          [8.4147e-01, 5.4030e-01, 9.9833e-02, 9.9500e-01, 9.9998e-03,\n           9.9995e-01, 1.0000e-03, 1.0000e+00]],\n \n         [[0.0000e+00, 1.0000e+00, 0.0000e+00, 1.0000e+00, 0.0000e+00,\n           1.0000e+00, 0.0000e+00, 1.0000e+00],\n          [8.4147e-01, 5.4030e-01, 9.9833e-02, 9.9500e-01, 9.9998e-03,\n           9.9995e-01, 1.0000e-03, 1.0000e+00]]]))"
     },
     "execution_count": 152,
     "metadata": {},
     "output_type": "execute_result"
    }
   ],
   "source": [
    "i_mat , pos_mat, pos_mat / i_mat, pe_embedding.weight, src_pos, tgt_pos, tgt_pe_embedding"
   ],
   "metadata": {
    "collapsed": false,
    "ExecuteTime": {
     "end_time": "2024-09-14T07:56:17.466287Z",
     "start_time": "2024-09-14T07:56:17.454287Z"
    }
   },
   "id": "fe1db550fccbb06c",
   "execution_count": 152
  },
  {
   "cell_type": "code",
   "outputs": [
    {
     "name": "stdout",
     "output_type": "stream",
     "text": [
      "tensor([-1.3961, -0.4079,  0.2204,  0.4656,  2.0270])\n",
      "tensor([0.1697, 0.1873, 0.1995, 0.2044, 0.2390]) tensor([1.3599e-15, 2.6620e-11, 1.4253e-08, 1.6562e-07, 1.0000e+00])\n"
     ]
    }
   ],
   "source": [
    "alpha1 = 0.1\n",
    "alpha2 = 10\n",
    "score = torch.randn(5)\n",
    "prob1 = F.softmax(score*alpha1, dim=-1)\n",
    "prob2 = F.softmax(score*alpha2, dim=-1)\n",
    "print(score)\n",
    "print(prob1, prob2)"
   ],
   "metadata": {
    "collapsed": false,
    "ExecuteTime": {
     "end_time": "2024-09-14T09:45:00.366637Z",
     "start_time": "2024-09-14T09:45:00.347957Z"
    }
   },
   "id": "4c22caed1a96a334",
   "execution_count": 169
  },
  {
   "cell_type": "code",
   "outputs": [
    {
     "name": "stdout",
     "output_type": "stream",
     "text": [
      "tensor([[ 0.1409, -0.0318, -0.0339, -0.0347, -0.0406],\n",
      "        [-0.0318,  0.1522, -0.0374, -0.0383, -0.0448],\n",
      "        [-0.0339, -0.0374,  0.1597, -0.0408, -0.0477],\n",
      "        [-0.0347, -0.0383, -0.0408,  0.1626, -0.0489],\n",
      "        [-0.0406, -0.0448, -0.0477, -0.0489,  0.1819]])\n",
      "tensor([[ 1.3599e-15, -3.6201e-26, -1.9383e-23, -2.2523e-22, -1.3599e-15],\n",
      "        [-3.6201e-26,  2.6620e-11, -3.7942e-19, -4.4088e-18, -2.6620e-11],\n",
      "        [-1.9383e-23, -3.7942e-19,  1.4253e-08, -2.3606e-15, -1.4253e-08],\n",
      "        [-2.2523e-22, -4.4088e-18, -2.3606e-15,  1.6562e-07, -1.6562e-07],\n",
      "        [-1.3599e-15, -2.6620e-11, -1.4253e-08, -1.6562e-07,  2.3842e-07]])\n"
     ]
    }
   ],
   "source": [
    "def softmax_func(score):\n",
    "    return F.softmax(score, dim=-1)\n",
    "\n",
    "jaco_mat1 = torch.autograd.functional.jacobian(softmax_func, score*alpha1)\n",
    "jaco_mat2 = torch.autograd.functional.jacobian(softmax_func, score*alpha2)\n",
    "print(jaco_mat1)\n",
    "print(jaco_mat2)\n",
    "\n"
   ],
   "metadata": {
    "collapsed": false,
    "ExecuteTime": {
     "end_time": "2024-09-14T09:45:02.920463Z",
     "start_time": "2024-09-14T09:45:02.911635Z"
    }
   },
   "id": "654f572a6d2cdd74",
   "execution_count": 170
  }
 ],
 "metadata": {
  "kernelspec": {
   "display_name": "Python 3",
   "language": "python",
   "name": "python3"
  },
  "language_info": {
   "codemirror_mode": {
    "name": "ipython",
    "version": 2
   },
   "file_extension": ".py",
   "mimetype": "text/x-python",
   "name": "python",
   "nbconvert_exporter": "python",
   "pygments_lexer": "ipython2",
   "version": "2.7.6"
  }
 },
 "nbformat": 4,
 "nbformat_minor": 5
}
